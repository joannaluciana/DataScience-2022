{
 "cells": [
  {
   "cell_type": "markdown",
   "id": "8798d0e7",
   "metadata": {},
   "source": [
    "NumPy"
   ]
  },
  {
   "cell_type": "code",
   "execution_count": null,
   "id": "21ec3e36",
   "metadata": {},
   "outputs": [],
   "source": [
    "import numpy as np\n",
    "print(np.__version__)"
   ]
  },
  {
   "cell_type": "markdown",
   "id": "1aa0687a",
   "metadata": {},
   "source": [
    "Typy danych"
   ]
  },
  {
   "cell_type": "code",
   "execution_count": 2,
   "id": "79f26330",
   "metadata": {},
   "outputs": [],
   "source": [
    "l=[1,'2',True,3.0,None]"
   ]
  },
  {
   "cell_type": "code",
   "execution_count": 4,
   "id": "ec4d697f",
   "metadata": {},
   "outputs": [
    {
     "data": {
      "text/plain": [
       "[int, str, bool, float, NoneType]"
      ]
     },
     "execution_count": 4,
     "metadata": {},
     "output_type": "execute_result"
    }
   ],
   "source": [
    "[type(item) for item in l]"
   ]
  },
  {
   "cell_type": "code",
   "execution_count": 5,
   "id": "3bfb698d",
   "metadata": {},
   "outputs": [
    {
     "data": {
      "text/plain": [
       "array([4.1, 0. , 1. , 2. , 3. ])"
      ]
     },
     "execution_count": 5,
     "metadata": {},
     "output_type": "execute_result"
    }
   ],
   "source": [
    "np.array([4.1,0,1,2,3])"
   ]
  },
  {
   "cell_type": "code",
   "execution_count": 8,
   "id": "60101e0b",
   "metadata": {},
   "outputs": [
    {
     "data": {
      "text/plain": [
       "array([[2, 3, 4],\n",
       "       [4, 5, 6],\n",
       "       [6, 7, 8]])"
      ]
     },
     "execution_count": 8,
     "metadata": {},
     "output_type": "execute_result"
    }
   ],
   "source": [
    "np.array([range(i, i+3) \n",
    "         for i in [2,4,6]])"
   ]
  },
  {
   "cell_type": "markdown",
   "id": "1616dc66",
   "metadata": {},
   "source": [
    "Sposób tworzenia tablicy"
   ]
  },
  {
   "cell_type": "code",
   "execution_count": 10,
   "id": "63734236",
   "metadata": {},
   "outputs": [
    {
     "data": {
      "text/plain": [
       "array([0, 0, 0, 0, 0, 0, 0, 0, 0, 0])"
      ]
     },
     "execution_count": 10,
     "metadata": {},
     "output_type": "execute_result"
    }
   ],
   "source": [
    "#tablica wypelniona zerami\n",
    "np.zeros(10, dtype=int)"
   ]
  },
  {
   "cell_type": "code",
   "execution_count": 12,
   "id": "0f947c86",
   "metadata": {},
   "outputs": [
    {
     "data": {
      "text/plain": [
       "array([[1., 1., 1.],\n",
       "       [1., 1., 1.],\n",
       "       [1., 1., 1.],\n",
       "       [1., 1., 1.],\n",
       "       [1., 1., 1.]])"
      ]
     },
     "execution_count": 12,
     "metadata": {},
     "output_type": "execute_result"
    }
   ],
   "source": [
    "#tablica wypelniona 1\n",
    "np.ones((5,3), dtype=float)"
   ]
  },
  {
   "cell_type": "code",
   "execution_count": 15,
   "id": "7d33ef88",
   "metadata": {},
   "outputs": [
    {
     "data": {
      "text/plain": [
       "array([ 0,  2,  4,  6,  8, 10, 12, 14, 16, 18])"
      ]
     },
     "execution_count": 15,
     "metadata": {},
     "output_type": "execute_result"
    }
   ],
   "source": [
    "#tablica wypelniona ciagiem liniowym\n",
    "np.arange(0,20,2)"
   ]
  },
  {
   "cell_type": "code",
   "execution_count": 17,
   "id": "7e9968d3",
   "metadata": {},
   "outputs": [
    {
     "data": {
      "text/plain": [
       "array([[ 0.8547271 , -1.06168882, -0.18313828],\n",
       "       [-1.28074999, -0.36491435, -0.89853483],\n",
       "       [ 0.69193114, -1.09260805,  1.31847209]])"
      ]
     },
     "execution_count": 17,
     "metadata": {},
     "output_type": "execute_result"
    }
   ],
   "source": [
    "#tablica wypelniona losowymi\n",
    "np.random.normal(0,1,(3,3))"
   ]
  },
  {
   "cell_type": "code",
   "execution_count": 19,
   "id": "f821de56",
   "metadata": {},
   "outputs": [
    {
     "data": {
      "text/plain": [
       "array([[6, 4, 6],\n",
       "       [4, 1, 0],\n",
       "       [4, 2, 5]])"
      ]
     },
     "execution_count": 19,
     "metadata": {},
     "output_type": "execute_result"
    }
   ],
   "source": [
    "#tablica wypelniona losowymi calkowitymi\n",
    "np.random.randint(0,10,(3,3))"
   ]
  },
  {
   "cell_type": "markdown",
   "id": "08e3fb2e",
   "metadata": {},
   "source": [
    "Operowanie na tablicach w NumPy"
   ]
  },
  {
   "cell_type": "code",
   "execution_count": 25,
   "id": "364534c6",
   "metadata": {},
   "outputs": [
    {
     "data": {
      "text/plain": [
       "array([[[41, 65, 14, 14],\n",
       "        [85, 35, 40, 43],\n",
       "        [12, 75, 48, 59]],\n",
       "\n",
       "       [[49, 97, 88, 24],\n",
       "        [62, 53, 73, 32],\n",
       "        [98,  9, 15,  2]]])"
      ]
     },
     "execution_count": 25,
     "metadata": {},
     "output_type": "execute_result"
    }
   ],
   "source": [
    "x = np.random.randint(0,100, size = (2,3,4))\n",
    "x"
   ]
  },
  {
   "cell_type": "code",
   "execution_count": 26,
   "id": "39f1aba5",
   "metadata": {},
   "outputs": [
    {
     "name": "stdout",
     "output_type": "stream",
     "text": [
      "liczba wymiarow: 3\n",
      "liczba wymiarow: (2, 3, 4)\n",
      "liczba wymiarow: 24\n"
     ]
    }
   ],
   "source": [
    "print(f\"liczba wymiarow: {x.ndim}\")\n",
    "print(f\"wymiary tabl: {x.shape}\")\n",
    "print(f\"rozmiar tablicy: {x.size}\")\n"
   ]
  },
  {
   "cell_type": "code",
   "execution_count": 27,
   "id": "5f9a9385",
   "metadata": {},
   "outputs": [
    {
     "name": "stdout",
     "output_type": "stream",
     "text": [
      "typ danych w  tablicy: int32\n"
     ]
    }
   ],
   "source": [
    "print(f\"typ danych w  tablicy: {x.dtype}\")"
   ]
  },
  {
   "cell_type": "code",
   "execution_count": 29,
   "id": "c1633b62",
   "metadata": {},
   "outputs": [],
   "source": [
    "y= np.arange(0,10)"
   ]
  },
  {
   "cell_type": "code",
   "execution_count": 30,
   "id": "11a581db",
   "metadata": {},
   "outputs": [
    {
     "data": {
      "text/plain": [
       "array([0, 1, 2, 3, 4, 5, 6, 7, 8, 9])"
      ]
     },
     "execution_count": 30,
     "metadata": {},
     "output_type": "execute_result"
    }
   ],
   "source": [
    "y"
   ]
  },
  {
   "cell_type": "code",
   "execution_count": 31,
   "id": "477ed890",
   "metadata": {},
   "outputs": [
    {
     "data": {
      "text/plain": [
       "5"
      ]
     },
     "execution_count": 31,
     "metadata": {},
     "output_type": "execute_result"
    }
   ],
   "source": [
    "y[5]"
   ]
  },
  {
   "cell_type": "code",
   "execution_count": 32,
   "id": "c29c02f3",
   "metadata": {},
   "outputs": [
    {
     "data": {
      "text/plain": [
       "array([2, 3, 4])"
      ]
     },
     "execution_count": 32,
     "metadata": {},
     "output_type": "execute_result"
    }
   ],
   "source": [
    "y[2:5]"
   ]
  },
  {
   "cell_type": "code",
   "execution_count": 33,
   "id": "26d127cb",
   "metadata": {},
   "outputs": [
    {
     "data": {
      "text/plain": [
       "40"
      ]
     },
     "execution_count": 33,
     "metadata": {},
     "output_type": "execute_result"
    }
   ],
   "source": [
    "x[0,1,2]"
   ]
  },
  {
   "cell_type": "code",
   "execution_count": 34,
   "id": "57320199",
   "metadata": {},
   "outputs": [],
   "source": [
    "x[0,1,2] = 62"
   ]
  },
  {
   "cell_type": "code",
   "execution_count": 35,
   "id": "6f349023",
   "metadata": {},
   "outputs": [
    {
     "data": {
      "text/plain": [
       "array([[[41, 65, 14, 14],\n",
       "        [85, 35, 62, 43],\n",
       "        [12, 75, 48, 59]],\n",
       "\n",
       "       [[49, 97, 88, 24],\n",
       "        [62, 53, 73, 32],\n",
       "        [98,  9, 15,  2]]])"
      ]
     },
     "execution_count": 35,
     "metadata": {},
     "output_type": "execute_result"
    }
   ],
   "source": [
    "x"
   ]
  },
  {
   "cell_type": "code",
   "execution_count": 36,
   "id": "d42e7fe5",
   "metadata": {},
   "outputs": [
    {
     "data": {
      "text/plain": [
       "array([[[41, 65, 14],\n",
       "        [85, 35, 62],\n",
       "        [12, 75, 48]]])"
      ]
     },
     "execution_count": 36,
     "metadata": {},
     "output_type": "execute_result"
    }
   ],
   "source": [
    "x[:1, :, :3]"
   ]
  },
  {
   "cell_type": "code",
   "execution_count": 37,
   "id": "1df74a9d",
   "metadata": {},
   "outputs": [],
   "source": [
    "l1=[1,2,3]\n",
    "l2 = l1[2:]\n",
    "l2[0] = 4"
   ]
  },
  {
   "cell_type": "code",
   "execution_count": 38,
   "id": "b556e4b6",
   "metadata": {},
   "outputs": [
    {
     "data": {
      "text/plain": [
       "[4]"
      ]
     },
     "execution_count": 38,
     "metadata": {},
     "output_type": "execute_result"
    }
   ],
   "source": [
    "l2"
   ]
  },
  {
   "cell_type": "code",
   "execution_count": 40,
   "id": "35d9a09e",
   "metadata": {},
   "outputs": [],
   "source": [
    "x = np.zeros((2,3))"
   ]
  },
  {
   "cell_type": "code",
   "execution_count": 41,
   "id": "9be29f84",
   "metadata": {},
   "outputs": [
    {
     "data": {
      "text/plain": [
       "array([[0., 0., 0.],\n",
       "       [0., 0., 0.]])"
      ]
     },
     "execution_count": 41,
     "metadata": {},
     "output_type": "execute_result"
    }
   ],
   "source": [
    "x"
   ]
  },
  {
   "cell_type": "code",
   "execution_count": 42,
   "id": "d8e44d6f",
   "metadata": {},
   "outputs": [],
   "source": [
    "y[0]=1"
   ]
  },
  {
   "cell_type": "code",
   "execution_count": 44,
   "id": "d95c045d",
   "metadata": {},
   "outputs": [],
   "source": [
    "x_copy=x[:2, :2].copy()"
   ]
  },
  {
   "cell_type": "markdown",
   "id": "95cde8f4",
   "metadata": {},
   "source": [
    "Zmiana wymiarow"
   ]
  },
  {
   "cell_type": "code",
   "execution_count": 45,
   "id": "7e0cc1db",
   "metadata": {},
   "outputs": [
    {
     "data": {
      "text/plain": [
       "array([[1, 2, 3],\n",
       "       [4, 5, 6],\n",
       "       [7, 8, 9]])"
      ]
     },
     "execution_count": 45,
     "metadata": {},
     "output_type": "execute_result"
    }
   ],
   "source": [
    "np.arange(1,10).reshape((3,3))"
   ]
  },
  {
   "cell_type": "code",
   "execution_count": 48,
   "id": "fa03687e",
   "metadata": {},
   "outputs": [],
   "source": [
    "x = np.array([1,2,3])"
   ]
  },
  {
   "cell_type": "code",
   "execution_count": 49,
   "id": "ef67e719",
   "metadata": {},
   "outputs": [
    {
     "data": {
      "text/plain": [
       "array([1, 2, 3])"
      ]
     },
     "execution_count": 49,
     "metadata": {},
     "output_type": "execute_result"
    }
   ],
   "source": [
    "x"
   ]
  },
  {
   "cell_type": "code",
   "execution_count": 50,
   "id": "95d1f6d4",
   "metadata": {},
   "outputs": [
    {
     "data": {
      "text/plain": [
       "array([[1, 2, 3]])"
      ]
     },
     "execution_count": 50,
     "metadata": {},
     "output_type": "execute_result"
    }
   ],
   "source": [
    "x.reshape((1,3))"
   ]
  },
  {
   "cell_type": "code",
   "execution_count": 51,
   "id": "b749c1cf",
   "metadata": {},
   "outputs": [
    {
     "data": {
      "text/plain": [
       "array([[1],\n",
       "       [2],\n",
       "       [3]])"
      ]
     },
     "execution_count": 51,
     "metadata": {},
     "output_type": "execute_result"
    }
   ],
   "source": [
    "x.reshape((3,1))"
   ]
  },
  {
   "cell_type": "markdown",
   "id": "9bf9435f",
   "metadata": {},
   "source": [
    "Laczenie tablic"
   ]
  },
  {
   "cell_type": "code",
   "execution_count": 54,
   "id": "f925c559",
   "metadata": {},
   "outputs": [],
   "source": [
    "x = np.array([1, 2, 3])\n",
    "y = np.array([3, 2, 1])"
   ]
  },
  {
   "cell_type": "code",
   "execution_count": 55,
   "id": "f87eae52",
   "metadata": {},
   "outputs": [
    {
     "data": {
      "text/plain": [
       "array([3, 2, 1, 1, 2, 3])"
      ]
     },
     "execution_count": 55,
     "metadata": {},
     "output_type": "execute_result"
    }
   ],
   "source": [
    "np.concatenate([y,x])"
   ]
  },
  {
   "cell_type": "code",
   "execution_count": 58,
   "id": "9ce3b9c5",
   "metadata": {},
   "outputs": [],
   "source": [
    "grid = np.array([[1, 2, 3]\n",
    ",[4, 5, 6]])"
   ]
  },
  {
   "cell_type": "code",
   "execution_count": 59,
   "id": "d3e12fc3",
   "metadata": {},
   "outputs": [
    {
     "data": {
      "text/plain": [
       "array([[1, 2, 3, 1, 2, 3],\n",
       "       [4, 5, 6, 4, 5, 6]])"
      ]
     },
     "execution_count": 59,
     "metadata": {},
     "output_type": "execute_result"
    }
   ],
   "source": [
    "np.concatenate([grid,grid], axis = 1)"
   ]
  },
  {
   "cell_type": "code",
   "execution_count": 60,
   "id": "26475c12",
   "metadata": {},
   "outputs": [
    {
     "data": {
      "text/plain": [
       "array([[1, 2, 3],\n",
       "       [1, 2, 3],\n",
       "       [4, 5, 6]])"
      ]
     },
     "execution_count": 60,
     "metadata": {},
     "output_type": "execute_result"
    }
   ],
   "source": [
    "np.vstack([x,grid])"
   ]
  },
  {
   "cell_type": "code",
   "execution_count": 62,
   "id": "0466fe6c",
   "metadata": {},
   "outputs": [
    {
     "data": {
      "text/plain": [
       "array([[ 1,  2,  3, 99],\n",
       "       [ 4,  5,  6, 99]])"
      ]
     },
     "execution_count": 62,
     "metadata": {},
     "output_type": "execute_result"
    }
   ],
   "source": [
    "y = np.array([[99],[99]])\n",
    "np.hstack([grid,y])"
   ]
  },
  {
   "cell_type": "code",
   "execution_count": 63,
   "id": "7d087c7d",
   "metadata": {},
   "outputs": [
    {
     "name": "stdout",
     "output_type": "stream",
     "text": [
      "[0 1 2 3 4 5 6 7 8 9]\n"
     ]
    },
    {
     "data": {
      "text/plain": [
       "[array([0, 1, 2]), array([3, 4]), array([5, 6, 7, 8, 9])]"
      ]
     },
     "execution_count": 63,
     "metadata": {},
     "output_type": "execute_result"
    }
   ],
   "source": [
    "x =  np.arange(10)\n",
    "print(x)\n",
    "np.split(x,[3,5])"
   ]
  },
  {
   "cell_type": "markdown",
   "id": "1b171d23",
   "metadata": {},
   "source": [
    "Wykonywanie obliczen"
   ]
  },
  {
   "cell_type": "code",
   "execution_count": 65,
   "id": "ee3f1e82",
   "metadata": {},
   "outputs": [],
   "source": [
    "#Funkcja ktora przyjmie liste liczb i zwroci liste z odwrotnosciami tych liczb"
   ]
  },
  {
   "cell_type": "code",
   "execution_count": 70,
   "id": "f6da6d84",
   "metadata": {},
   "outputs": [],
   "source": [
    "def compute(values):\n",
    "    output = np.empty(len(values))\n",
    "    for i, value in enumerate(values):\n",
    "        output[i] = 1.0 / value\n",
    "    return output"
   ]
  },
  {
   "cell_type": "code",
   "execution_count": 71,
   "id": "b4b0cf6e",
   "metadata": {},
   "outputs": [
    {
     "name": "stdout",
     "output_type": "stream",
     "text": [
      "[5 5 7 5 6]\n"
     ]
    },
    {
     "data": {
      "text/plain": [
       "array([0.2       , 0.2       , 0.14285714, 0.2       , 0.16666667])"
      ]
     },
     "execution_count": 71,
     "metadata": {},
     "output_type": "execute_result"
    }
   ],
   "source": [
    "values = np.random.randint(1,10, size = 5)\n",
    "print(values)\n",
    "compute(values)"
   ]
  },
  {
   "cell_type": "code",
   "execution_count": 72,
   "id": "cd3bd498",
   "metadata": {},
   "outputs": [],
   "source": [
    "big_array = np.random.randint(1,100,size = 1_000_000)"
   ]
  },
  {
   "cell_type": "code",
   "execution_count": 73,
   "id": "eeb7d6d2",
   "metadata": {},
   "outputs": [
    {
     "name": "stdout",
     "output_type": "stream",
     "text": [
      "2.58 s ± 44.8 ms per loop (mean ± std. dev. of 7 runs, 1 loop each)\n"
     ]
    }
   ],
   "source": [
    "%timeit compute(big_array)"
   ]
  },
  {
   "cell_type": "code",
   "execution_count": 75,
   "id": "22d62697",
   "metadata": {},
   "outputs": [
    {
     "name": "stdout",
     "output_type": "stream",
     "text": [
      "4.33 ms ± 147 µs per loop (mean ± std. dev. of 7 runs, 100 loops each)\n"
     ]
    }
   ],
   "source": [
    "%timeit 1.0 / big_array"
   ]
  },
  {
   "cell_type": "code",
   "execution_count": 76,
   "id": "e4963860",
   "metadata": {},
   "outputs": [
    {
     "data": {
      "text/plain": [
       "array([0.01449275, 0.01754386, 0.02380952, ..., 0.01538462, 0.01111111,\n",
       "       0.01369863])"
      ]
     },
     "execution_count": 76,
     "metadata": {},
     "output_type": "execute_result"
    }
   ],
   "source": [
    "1.0/ big_array"
   ]
  },
  {
   "cell_type": "code",
   "execution_count": 77,
   "id": "10aefd79",
   "metadata": {},
   "outputs": [
    {
     "data": {
      "text/plain": [
       "array([0, 1, 2, 3, 4, 5, 6, 7, 8, 9])"
      ]
     },
     "execution_count": 77,
     "metadata": {},
     "output_type": "execute_result"
    }
   ],
   "source": [
    "x"
   ]
  },
  {
   "cell_type": "code",
   "execution_count": 78,
   "id": "d460b91b",
   "metadata": {},
   "outputs": [
    {
     "data": {
      "text/plain": [
       "array([ 0,  5, 10, 15, 20, 25, 30, 35, 40, 45])"
      ]
     },
     "execution_count": 78,
     "metadata": {},
     "output_type": "execute_result"
    }
   ],
   "source": [
    "x * 5"
   ]
  },
  {
   "cell_type": "code",
   "execution_count": 79,
   "id": "26f241de",
   "metadata": {},
   "outputs": [
    {
     "data": {
      "text/plain": [
       "array([ 0,  1,  4,  9, 16, 25, 36, 49, 64, 81], dtype=int32)"
      ]
     },
     "execution_count": 79,
     "metadata": {},
     "output_type": "execute_result"
    }
   ],
   "source": [
    "x ** 2"
   ]
  },
  {
   "cell_type": "code",
   "execution_count": 80,
   "id": "dd4093a9",
   "metadata": {},
   "outputs": [
    {
     "data": {
      "text/plain": [
       "array([ 0,  2,  4,  6,  8, 10, 12, 14, 16, 18])"
      ]
     },
     "execution_count": 80,
     "metadata": {},
     "output_type": "execute_result"
    }
   ],
   "source": [
    "x + x "
   ]
  },
  {
   "cell_type": "markdown",
   "id": "5c80e60d",
   "metadata": {},
   "source": [
    "##agregacja na tablicach"
   ]
  },
  {
   "cell_type": "code",
   "execution_count": 81,
   "id": "6cb19af1",
   "metadata": {},
   "outputs": [],
   "source": [
    "L = np.random.random(100)"
   ]
  },
  {
   "cell_type": "code",
   "execution_count": 82,
   "id": "f421f5e3",
   "metadata": {},
   "outputs": [
    {
     "name": "stdout",
     "output_type": "stream",
     "text": [
      "52.44074085455967\n"
     ]
    }
   ],
   "source": [
    "print(np.sum(L))"
   ]
  },
  {
   "cell_type": "code",
   "execution_count": 83,
   "id": "e60784fa",
   "metadata": {},
   "outputs": [
    {
     "name": "stdout",
     "output_type": "stream",
     "text": [
      "0.05118479642682927\n"
     ]
    }
   ],
   "source": [
    "print(np.min(L))"
   ]
  },
  {
   "cell_type": "code",
   "execution_count": 84,
   "id": "53b73929",
   "metadata": {},
   "outputs": [
    {
     "name": "stdout",
     "output_type": "stream",
     "text": [
      "0.9981817417850793\n"
     ]
    }
   ],
   "source": [
    "print(np.max(L))"
   ]
  },
  {
   "cell_type": "code",
   "execution_count": 85,
   "id": "01149196",
   "metadata": {},
   "outputs": [],
   "source": [
    "M = np.random.randint(10, size = (3,4))"
   ]
  },
  {
   "cell_type": "code",
   "execution_count": 86,
   "id": "de3a7583",
   "metadata": {},
   "outputs": [
    {
     "data": {
      "text/plain": [
       "array([[7, 0, 6, 4],\n",
       "       [1, 6, 4, 6],\n",
       "       [0, 4, 6, 2]])"
      ]
     },
     "execution_count": 86,
     "metadata": {},
     "output_type": "execute_result"
    }
   ],
   "source": [
    "M"
   ]
  },
  {
   "cell_type": "code",
   "execution_count": 88,
   "id": "01ed409b",
   "metadata": {},
   "outputs": [
    {
     "data": {
      "text/plain": [
       "array([ 8, 10, 16, 12])"
      ]
     },
     "execution_count": 88,
     "metadata": {},
     "output_type": "execute_result"
    }
   ],
   "source": [
    "M.sum(axis=0)\n",
    "#suma pionowo"
   ]
  },
  {
   "cell_type": "code",
   "execution_count": 90,
   "id": "f158ac3a",
   "metadata": {},
   "outputs": [
    {
     "data": {
      "text/plain": [
       "array([17, 17, 12])"
      ]
     },
     "execution_count": 90,
     "metadata": {},
     "output_type": "execute_result"
    }
   ],
   "source": [
    "M.sum(axis=1)\n",
    "#suma poziomo"
   ]
  },
  {
   "cell_type": "markdown",
   "id": "14bcf6f2",
   "metadata": {},
   "source": [
    "##Porównanie tablic, maski"
   ]
  },
  {
   "cell_type": "code",
   "execution_count": 99,
   "id": "0e294cf6",
   "metadata": {},
   "outputs": [
    {
     "data": {
      "text/plain": [
       "array([1, 2, 3, 4, 5])"
      ]
     },
     "execution_count": 99,
     "metadata": {},
     "output_type": "execute_result"
    }
   ],
   "source": [
    "x = np.array([1,2,3,4,5])\n",
    "x"
   ]
  },
  {
   "cell_type": "code",
   "execution_count": 93,
   "id": "db8d2fc7",
   "metadata": {},
   "outputs": [
    {
     "data": {
      "text/plain": [
       "(array([ True,  True, False, False, False]),\n",
       " array([False, False, False,  True,  True]),\n",
       " array([False, False,  True, False, False]),\n",
       " array([False, False, False, False,  True]))"
      ]
     },
     "execution_count": 93,
     "metadata": {},
     "output_type": "execute_result"
    }
   ],
   "source": [
    "x<3, x> 3, x ==3, x >4"
   ]
  },
  {
   "cell_type": "code",
   "execution_count": 100,
   "id": "d4cb03bf",
   "metadata": {},
   "outputs": [
    {
     "data": {
      "text/plain": [
       "array([[1, 7, 0, 3],\n",
       "       [6, 6, 2, 0],\n",
       "       [5, 9, 7, 9],\n",
       "       [9, 8, 3, 4]])"
      ]
     },
     "execution_count": 100,
     "metadata": {},
     "output_type": "execute_result"
    }
   ],
   "source": [
    "x = np.random.randint(10, size =(4,4))\n",
    "x"
   ]
  },
  {
   "cell_type": "code",
   "execution_count": 97,
   "id": "e4baf12e",
   "metadata": {},
   "outputs": [
    {
     "data": {
      "text/plain": [
       "8"
      ]
     },
     "execution_count": 97,
     "metadata": {},
     "output_type": "execute_result"
    }
   ],
   "source": [
    "(x<6).sum()\n",
    "np.count_nonzero(x<6)"
   ]
  },
  {
   "cell_type": "code",
   "execution_count": 101,
   "id": "cd5a2993",
   "metadata": {},
   "outputs": [
    {
     "data": {
      "text/plain": [
       "array([3, 2, 1, 2])"
      ]
     },
     "execution_count": 101,
     "metadata": {},
     "output_type": "execute_result"
    }
   ],
   "source": [
    "np.sum(x<6, axis =1)\n",
    "#liczy tru i false, ktore traktuje jako 0 i 1"
   ]
  },
  {
   "cell_type": "code",
   "execution_count": 109,
   "id": "a1ce4725",
   "metadata": {},
   "outputs": [],
   "source": [
    "x[x<5] = 0 "
   ]
  },
  {
   "cell_type": "code",
   "execution_count": 110,
   "id": "42851767",
   "metadata": {},
   "outputs": [
    {
     "data": {
      "text/plain": [
       "array([[0, 7, 0, 0],\n",
       "       [6, 6, 0, 0],\n",
       "       [5, 9, 7, 9],\n",
       "       [9, 8, 0, 0]])"
      ]
     },
     "execution_count": 110,
     "metadata": {},
     "output_type": "execute_result"
    }
   ],
   "source": [
    "x"
   ]
  },
  {
   "cell_type": "markdown",
   "id": "362b6c80",
   "metadata": {},
   "source": [
    "Fancy indexing"
   ]
  },
  {
   "cell_type": "code",
   "execution_count": 111,
   "id": "430d3d2d",
   "metadata": {},
   "outputs": [
    {
     "data": {
      "text/plain": [
       "array([11, 73, 54, 54,  7, 46, 15,  3, 48, 22])"
      ]
     },
     "execution_count": 111,
     "metadata": {},
     "output_type": "execute_result"
    }
   ],
   "source": [
    "x = np.random.randint(100, size = 10)\n",
    "x"
   ]
  },
  {
   "cell_type": "code",
   "execution_count": 112,
   "id": "99834237",
   "metadata": {},
   "outputs": [],
   "source": [
    "#wyciagnij 3,7 i 2 elem"
   ]
  },
  {
   "cell_type": "code",
   "execution_count": 117,
   "id": "c0a4eeb4",
   "metadata": {},
   "outputs": [
    {
     "data": {
      "text/plain": [
       "array([54, 15, 73])"
      ]
     },
     "execution_count": 117,
     "metadata": {},
     "output_type": "execute_result"
    }
   ],
   "source": [
    "np.array([x[2],x[6],x[1]])"
   ]
  },
  {
   "cell_type": "code",
   "execution_count": 114,
   "id": "f8b131b2",
   "metadata": {},
   "outputs": [],
   "source": [
    "ind = [2,6,1]"
   ]
  },
  {
   "cell_type": "code",
   "execution_count": 115,
   "id": "0485e1c8",
   "metadata": {},
   "outputs": [
    {
     "data": {
      "text/plain": [
       "array([54, 15, 73])"
      ]
     },
     "execution_count": 115,
     "metadata": {},
     "output_type": "execute_result"
    }
   ],
   "source": [
    "x[ind]\n"
   ]
  },
  {
   "cell_type": "code",
   "execution_count": 116,
   "id": "e0fee1bc",
   "metadata": {},
   "outputs": [
    {
     "data": {
      "text/plain": [
       "array([54, 15, 73])"
      ]
     },
     "execution_count": 116,
     "metadata": {},
     "output_type": "execute_result"
    }
   ],
   "source": [
    "x[[2,6,1]]"
   ]
  },
  {
   "cell_type": "code",
   "execution_count": 119,
   "id": "a42fab34",
   "metadata": {},
   "outputs": [
    {
     "data": {
      "text/plain": [
       "array([[54,  3],\n",
       "       [ 7, 46]])"
      ]
     },
     "execution_count": 119,
     "metadata": {},
     "output_type": "execute_result"
    }
   ],
   "source": [
    "ind = np.array([[3,7],\n",
    "               \n",
    "[4,5]])\n",
    "x[ind]"
   ]
  },
  {
   "cell_type": "code",
   "execution_count": 120,
   "id": "a639cc98",
   "metadata": {},
   "outputs": [],
   "source": [
    "x = np.random.randint(100, size = (5,5))"
   ]
  },
  {
   "cell_type": "code",
   "execution_count": 121,
   "id": "bbf1086f",
   "metadata": {},
   "outputs": [
    {
     "data": {
      "text/plain": [
       "array([[60, 24, 96, 22, 65],\n",
       "       [ 4, 26, 78,  7, 22],\n",
       "       [20, 12, 77, 24, 37],\n",
       "       [51, 55, 95, 66, 59],\n",
       "       [18, 49, 72, 72, 18]])"
      ]
     },
     "execution_count": 121,
     "metadata": {},
     "output_type": "execute_result"
    }
   ],
   "source": [
    "x"
   ]
  },
  {
   "cell_type": "code",
   "execution_count": 122,
   "id": "3fdc4c6a",
   "metadata": {},
   "outputs": [
    {
     "data": {
      "text/plain": [
       "array([20, 12, 77])"
      ]
     },
     "execution_count": 122,
     "metadata": {},
     "output_type": "execute_result"
    }
   ],
   "source": [
    "x[2,[0,1,2]]\n",
    "#fancy indexing"
   ]
  },
  {
   "cell_type": "code",
   "execution_count": 123,
   "id": "03774cf4",
   "metadata": {},
   "outputs": [
    {
     "data": {
      "text/plain": [
       "array([[78,  4, 26],\n",
       "       [77, 20, 12],\n",
       "       [95, 51, 55],\n",
       "       [72, 18, 49]])"
      ]
     },
     "execution_count": 123,
     "metadata": {},
     "output_type": "execute_result"
    }
   ],
   "source": [
    "x[1:,[2,0,1]]\n",
    "#fancy indexing"
   ]
  },
  {
   "cell_type": "markdown",
   "id": "2bf378cf",
   "metadata": {},
   "source": [
    "Sortowanie tablic"
   ]
  },
  {
   "cell_type": "code",
   "execution_count": 133,
   "id": "84a86d77",
   "metadata": {},
   "outputs": [],
   "source": [
    "x = np.random.randint(100, size = (5))"
   ]
  },
  {
   "cell_type": "code",
   "execution_count": 134,
   "id": "5ca89f38",
   "metadata": {},
   "outputs": [
    {
     "data": {
      "text/plain": [
       "array([19, 79, 29, 80, 80])"
      ]
     },
     "execution_count": 134,
     "metadata": {},
     "output_type": "execute_result"
    }
   ],
   "source": [
    "x"
   ]
  },
  {
   "cell_type": "code",
   "execution_count": 135,
   "id": "80b0a583",
   "metadata": {},
   "outputs": [
    {
     "data": {
      "text/plain": [
       "array([19, 29, 79, 80, 80])"
      ]
     },
     "execution_count": 135,
     "metadata": {},
     "output_type": "execute_result"
    }
   ],
   "source": [
    "np.sort(x)"
   ]
  },
  {
   "cell_type": "code",
   "execution_count": 136,
   "id": "8773ee53",
   "metadata": {},
   "outputs": [
    {
     "data": {
      "text/plain": [
       "array([0, 2, 1, 3, 4], dtype=int64)"
      ]
     },
     "execution_count": 136,
     "metadata": {},
     "output_type": "execute_result"
    }
   ],
   "source": [
    "i = np.argsort(x)\n",
    "i"
   ]
  },
  {
   "cell_type": "code",
   "execution_count": 137,
   "id": "923a1d2c",
   "metadata": {},
   "outputs": [
    {
     "data": {
      "text/plain": [
       "array([19, 29, 79, 80, 80])"
      ]
     },
     "execution_count": 137,
     "metadata": {},
     "output_type": "execute_result"
    }
   ],
   "source": [
    "x[i]"
   ]
  },
  {
   "cell_type": "code",
   "execution_count": 138,
   "id": "d0554313",
   "metadata": {},
   "outputs": [],
   "source": [
    "#1. Wygeneruj tablicę 100 liczb całkowitych od 0 do 10 i wybierz z niej elementy nieparzyste."
   ]
  },
  {
   "cell_type": "code",
   "execution_count": 152,
   "id": "9496536a",
   "metadata": {},
   "outputs": [],
   "source": [
    "x = np.random.randint(10, size = (100))"
   ]
  },
  {
   "cell_type": "code",
   "execution_count": 153,
   "id": "b04f753f",
   "metadata": {},
   "outputs": [
    {
     "data": {
      "text/plain": [
       "array([8, 3, 7, 3, 2, 2, 7, 1, 5, 0, 7, 5, 7, 0, 4, 6, 0, 9, 7, 1, 6, 2,\n",
       "       8, 2, 4, 4, 4, 1, 1, 7, 7, 6, 1, 5, 0, 9, 9, 7, 9, 7, 6, 3, 3, 5,\n",
       "       0, 2, 3, 6, 8, 8, 5, 4, 7, 2, 8, 4, 8, 2, 3, 2, 2, 1, 6, 4, 9, 9,\n",
       "       2, 2, 1, 2, 9, 2, 8, 5, 9, 5, 2, 1, 7, 0, 4, 2, 6, 9, 4, 2, 4, 0,\n",
       "       3, 6, 4, 4, 9, 1, 5, 2, 4, 8, 6, 2])"
      ]
     },
     "execution_count": 153,
     "metadata": {},
     "output_type": "execute_result"
    }
   ],
   "source": [
    "x"
   ]
  },
  {
   "cell_type": "code",
   "execution_count": 154,
   "id": "243d6691",
   "metadata": {},
   "outputs": [
    {
     "data": {
      "text/plain": [
       "array([ True, False, False, False,  True,  True, False, False, False,\n",
       "        True, False, False, False,  True,  True,  True,  True, False,\n",
       "       False, False,  True,  True,  True,  True,  True,  True,  True,\n",
       "       False, False, False, False,  True, False, False,  True, False,\n",
       "       False, False, False, False,  True, False, False, False,  True,\n",
       "        True, False,  True,  True,  True, False,  True, False,  True,\n",
       "        True,  True,  True,  True, False,  True,  True, False,  True,\n",
       "        True, False, False,  True,  True, False,  True, False,  True,\n",
       "        True, False, False, False,  True, False, False,  True,  True,\n",
       "        True,  True, False,  True,  True,  True,  True, False,  True,\n",
       "        True,  True, False, False, False,  True,  True,  True,  True,\n",
       "        True])"
      ]
     },
     "execution_count": 154,
     "metadata": {},
     "output_type": "execute_result"
    }
   ],
   "source": [
    "x%2==0"
   ]
  },
  {
   "cell_type": "code",
   "execution_count": 157,
   "id": "133d1860",
   "metadata": {},
   "outputs": [
    {
     "data": {
      "text/plain": [
       "array([8, 0, 0, 0, 2, 2, 0, 0, 0, 0, 0, 0, 0, 0, 4, 6, 0, 0, 0, 0, 6, 2,\n",
       "       8, 2, 4, 4, 4, 0, 0, 0, 0, 6, 0, 0, 0, 0, 0, 0, 0, 0, 6, 0, 0, 0,\n",
       "       0, 2, 0, 6, 8, 8, 0, 4, 0, 2, 8, 4, 8, 2, 0, 2, 2, 0, 6, 4, 0, 0,\n",
       "       2, 2, 0, 2, 0, 2, 8, 0, 0, 0, 2, 0, 0, 0, 4, 2, 6, 0, 4, 2, 4, 0,\n",
       "       0, 6, 4, 4, 0, 0, 0, 2, 4, 8, 6, 2])"
      ]
     },
     "execution_count": 157,
     "metadata": {},
     "output_type": "execute_result"
    }
   ],
   "source": [
    "x[x%2!=0]=0\n",
    "x"
   ]
  },
  {
   "cell_type": "code",
   "execution_count": 144,
   "id": "d88912ca",
   "metadata": {},
   "outputs": [],
   "source": [
    "#2. Korzystając z tablicy z poprzedniego zadania zastąp elementy nieparzyste zerami.\n"
   ]
  },
  {
   "cell_type": "code",
   "execution_count": 164,
   "id": "d5db98e9",
   "metadata": {},
   "outputs": [
    {
     "data": {
      "text/plain": [
       "(array([0, 0, 0, 0, 2, 6, 6, 2, 6, 0, 4, 0, 0, 0, 0, 4, 0, 0, 0, 0, 0, 0,\n",
       "        0, 0, 0, 2, 0, 8, 0, 4, 0, 0, 0, 0, 6, 8, 0, 2, 8, 0, 0, 0, 0, 0,\n",
       "        0, 4, 0, 8, 6, 0, 2, 4, 0, 2, 0, 2, 0, 6, 0, 6, 0, 4, 8, 0, 8, 0,\n",
       "        2, 0, 2, 2, 4, 0, 0, 4, 0, 0, 4, 0, 4, 0, 4, 0, 6, 4, 6, 0, 8, 4,\n",
       "        6, 6, 2, 0, 0, 0, 0, 0, 0, 0, 0, 6]),\n",
       " array([5, 5, 9, 3, 2, 6, 6, 2, 6, 9, 4, 3, 1, 7, 0, 4, 7, 7, 0, 1, 3, 9,\n",
       "        1, 7, 7, 2, 9, 8, 7, 4, 0, 1, 5, 3, 6, 8, 0, 2, 8, 1, 7, 7, 5, 7,\n",
       "        0, 4, 7, 8, 6, 9, 2, 4, 3, 2, 7, 2, 9, 6, 7, 6, 5, 4, 8, 3, 8, 5,\n",
       "        2, 1, 2, 2, 4, 3, 3, 4, 3, 3, 4, 1, 4, 0, 4, 7, 6, 4, 6, 9, 8, 4,\n",
       "        6, 6, 2, 3, 3, 7, 7, 0, 3, 9, 3, 6]))"
      ]
     },
     "execution_count": 164,
     "metadata": {},
     "output_type": "execute_result"
    }
   ],
   "source": [
    "x = np.random.randint(10, size = (100))\n",
    "x_copy=x.copy()\n",
    "x_copy[x%2!=0]=0\n",
    "x_copy, x\n"
   ]
  },
  {
   "cell_type": "code",
   "execution_count": 166,
   "id": "a9f94b7e",
   "metadata": {},
   "outputs": [],
   "source": [
    "#4. Z tablicy z poprzedniego zadania wybrać elementy większe niż 20 i mniejsze niż 50\n"
   ]
  },
  {
   "cell_type": "code",
   "execution_count": 174,
   "id": "dd966877",
   "metadata": {},
   "outputs": [
    {
     "data": {
      "text/plain": [
       "array([35, 28, 28, 35, 24, 37, 28, 29, 48, 43, 31, 42, 25, 37, 54, 42, 39,\n",
       "       34, 33, 44, 57, 43, 48, 44, 57, 29, 28, 26, 42, 59, 51, 48, 43, 52,\n",
       "       57, 53, 40, 37, 51])"
      ]
     },
     "execution_count": 174,
     "metadata": {},
     "output_type": "execute_result"
    }
   ],
   "source": [
    "x = np.random.randint(100, size = (100))\n",
    "x[(x>20) & (x<60)]"
   ]
  },
  {
   "cell_type": "code",
   "execution_count": 175,
   "id": "54c0f2be",
   "metadata": {},
   "outputs": [],
   "source": [
    "# 5. Wygeneruj tablicę o wymiarach 10x10 i stwórz nową tablicę, która ma odwróconą kolejność wierszy."
   ]
  },
  {
   "cell_type": "code",
   "execution_count": 176,
   "id": "4f53808d",
   "metadata": {},
   "outputs": [],
   "source": [
    "x = np.random.randint(100, size = (10,10))"
   ]
  },
  {
   "cell_type": "code",
   "execution_count": 177,
   "id": "217f701b",
   "metadata": {},
   "outputs": [
    {
     "data": {
      "text/plain": [
       "array([[96, 69, 69,  4, 92, 80, 12,  9, 94, 63],\n",
       "       [52,  3, 70, 78, 25, 11, 97, 19, 35, 83],\n",
       "       [78, 96, 97, 12, 54, 20, 10, 25, 48, 85],\n",
       "       [26, 27, 72, 40, 24,  9, 26, 62,  3, 56],\n",
       "       [83, 65, 78, 21, 54, 97, 41, 93, 54, 13],\n",
       "       [ 6,  6, 94, 44, 98, 70, 60, 88, 22, 15],\n",
       "       [87, 93, 53, 71,  1, 48, 86, 31, 36, 26],\n",
       "       [55, 49, 72, 70, 46, 33, 17, 40, 97, 57],\n",
       "       [86, 20, 85,  8, 36, 70, 70, 61, 99, 90],\n",
       "       [22, 70,  3, 76, 54, 45, 69, 80, 66, 50]])"
      ]
     },
     "execution_count": 177,
     "metadata": {},
     "output_type": "execute_result"
    }
   ],
   "source": [
    "x"
   ]
  },
  {
   "cell_type": "code",
   "execution_count": 180,
   "id": "ae56806b",
   "metadata": {},
   "outputs": [
    {
     "data": {
      "text/plain": [
       "array([[63, 94,  9, 12, 80, 92,  4, 69, 69, 96],\n",
       "       [83, 35, 19, 97, 11, 25, 78, 70,  3, 52],\n",
       "       [85, 48, 25, 10, 20, 54, 12, 97, 96, 78],\n",
       "       [56,  3, 62, 26,  9, 24, 40, 72, 27, 26],\n",
       "       [13, 54, 93, 41, 97, 54, 21, 78, 65, 83],\n",
       "       [15, 22, 88, 60, 70, 98, 44, 94,  6,  6],\n",
       "       [26, 36, 31, 86, 48,  1, 71, 53, 93, 87],\n",
       "       [57, 97, 40, 17, 33, 46, 70, 72, 49, 55],\n",
       "       [90, 99, 61, 70, 70, 36,  8, 85, 20, 86],\n",
       "       [50, 66, 80, 69, 45, 54, 76,  3, 70, 22]])"
      ]
     },
     "execution_count": 180,
     "metadata": {},
     "output_type": "execute_result"
    }
   ],
   "source": [
    "x_inverse = x[:,::-1]\n",
    "x_inverse"
   ]
  },
  {
   "cell_type": "code",
   "execution_count": null,
   "id": "1b3b8783",
   "metadata": {},
   "outputs": [],
   "source": []
  }
 ],
 "metadata": {
  "kernelspec": {
   "display_name": "Python 3 (ipykernel)",
   "language": "python",
   "name": "python3"
  },
  "language_info": {
   "codemirror_mode": {
    "name": "ipython",
    "version": 3
   },
   "file_extension": ".py",
   "mimetype": "text/x-python",
   "name": "python",
   "nbconvert_exporter": "python",
   "pygments_lexer": "ipython3",
   "version": "3.8.1"
  }
 },
 "nbformat": 4,
 "nbformat_minor": 5
}
